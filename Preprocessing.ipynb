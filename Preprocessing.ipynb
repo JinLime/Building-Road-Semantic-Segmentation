{
 "cells": [
  {
   "cell_type": "code",
   "execution_count": 1,
   "metadata": {},
   "outputs": [],
   "source": [
    "import cv2\n",
    "import numpy as np\n",
    "import matplotlib.pyplot as plt\n",
    "import json\n",
    "import os\n",
    "import shutil"
   ]
  },
  {
   "cell_type": "markdown",
   "metadata": {},
   "source": [
    "# json -> labeling image"
   ]
  },
  {
   "cell_type": "code",
   "execution_count": 2,
   "metadata": {},
   "outputs": [],
   "source": [
    "def make_mask_training(label_building, label_road):\n",
    "\n",
    "    # 도로\n",
    "    if label_road == meta_road:\n",
    "        mask_road = np.zeros((1024, 1024, 3), dtype=np.uint8)\n",
    "        road_coords = []\n",
    "\n",
    "        for r in range(len(label_road[\"features\"])):\n",
    "            road = label_road[\"features\"][r][\"properties\"]\n",
    "            temp = road[\"road_imcoords\"].split(\",\")\n",
    "            if len(temp) <= 1: continue\n",
    "            coords = np.array([int(round(float(c))) for c in temp]).reshape(-1, 2)\n",
    "            road_coords.append(coords)\n",
    "\n",
    "    mask_road = cv2.fillPoly(mask_road, road_coords, color=(255,255,255))\n",
    "\n",
    "    # 빌딩\n",
    "    if label_building == meta_building:\n",
    "        mask_building = np.zeros((1024, 1024, 3), dtype=np.uint8)\n",
    "        build_coords = []\n",
    "\n",
    "        for r in range(len(label_building[\"features\"])):\n",
    "            building = label_building[\"features\"][r][\"properties\"]\n",
    "            temp = building[\"building_imcoords\"].split(\",\")\n",
    "            if len(temp) <= 1: continue\n",
    "            coords = np.array([int(round(float(c))) for c in temp]).reshape(-1, 2)\n",
    "            build_coords.append(coords)\n",
    "\n",
    "    mask_building = cv2.fillPoly(mask_road, build_coords, color=(200,200,200))\n",
    "\n",
    "    plt.imshow(mask_building)\n",
    "    plt.imshow(mask_road,alpha=0.7) \n",
    "\n",
    "\n",
    "    cv2.imwrite(f'./LV2_training_set/labels/{i[:-5]}.png', mask_building)  # 저장\n",
    "\n",
    "    return mask_building, mask_road"
   ]
  },
  {
   "cell_type": "code",
   "execution_count": 3,
   "metadata": {},
   "outputs": [],
   "source": [
    "def make_mask_validation(label_building, label_road):\n",
    "\n",
    "    # 도로\n",
    "    if label_road == meta_road:\n",
    "        mask_road = np.zeros((1024, 1024, 3), dtype=np.uint8)\n",
    "        road_coords = []\n",
    "\n",
    "        for r in range(len(label_road[\"features\"])):\n",
    "            road = label_road[\"features\"][r][\"properties\"]\n",
    "            temp = road[\"road_imcoords\"].split(\",\")\n",
    "            if len(temp) <= 1: continue\n",
    "            coords = np.array([int(round(float(c))) for c in temp]).reshape(-1, 2)\n",
    "            road_coords.append(coords)\n",
    "\n",
    "    mask_road = cv2.fillPoly(mask_road, road_coords, color=(255,255,255))\n",
    "    \n",
    "    # 빌딩\n",
    "    if label_building == meta_building:\n",
    "        mask_building = np.zeros((1024, 1024, 3), dtype=np.uint8)\n",
    "        build_coords = []\n",
    "\n",
    "        for r in range(len(label_building[\"features\"])):\n",
    "            building = label_building[\"features\"][r][\"properties\"]\n",
    "            temp = building[\"building_imcoords\"].split(\",\")\n",
    "            if len(temp) <= 1: continue\n",
    "            coords = np.array([int(round(float(c))) for c in temp]).reshape(-1, 2)\n",
    "            build_coords.append(coords)\n",
    "\n",
    "    mask_building = cv2.fillPoly(mask_road, build_coords, color=(200,200,200))\n",
    "\n",
    "    plt.imshow(mask_building)\n",
    "    plt.imshow(mask_road,alpha=0.7) \n",
    "\n",
    "\n",
    "    cv2.imwrite(f'./LV2_validation_set/labels/{i[:-5]}.png', mask_building)  # 저장\n",
    "\n",
    "    return mask_building, mask_road"
   ]
  },
  {
   "cell_type": "markdown",
   "metadata": {},
   "source": [
    "## training label 생성"
   ]
  },
  {
   "cell_type": "code",
   "execution_count": null,
   "metadata": {},
   "outputs": [],
   "source": [
    "file_list = os.listdir('./LV2_training_set/labels_json/building')\n",
    "file_list_building = [file for file in file_list if file.endswith('.json')]\n",
    "\n",
    "file_list = os.listdir('./LV2_training_set/labels_json/road')\n",
    "file_list_road = [file for file in file_list if file.endswith('.json')]\n",
    "\n",
    "print(f'빌딩 : {len(file_list_building)}')\n",
    "print(f'도로 : {len(file_list_road)}')\n",
    "\n",
    "file_building_road = file_list_building + file_list_road\n",
    "\n",
    "os.mkdir('./LV2_training_set/labels') # labels 디렉토리 생성\n",
    "\n",
    "for i in file_building_road:\n",
    "    with open(f\"./LV2_training_set/labels_json/building/{i}\", \"r\") as jfile_building, open(f\"./LV2_training_set/labels_json/road/{i}\", \"r\") as jfile_road:\n",
    "        meta_building, meta_road = json.load(jfile_building), json.load(jfile_road)\n",
    "        make_mask_training(meta_building, meta_road)"
   ]
  },
  {
   "cell_type": "markdown",
   "metadata": {},
   "source": [
    "## validation label 생성"
   ]
  },
  {
   "cell_type": "code",
   "execution_count": null,
   "metadata": {},
   "outputs": [],
   "source": [
    "file_list = os.listdir('./LV2_validation_set/labels_json/building')\n",
    "file_list_building = [file for file in file_list if file.endswith('.json')]\n",
    "\n",
    "file_list = os.listdir('./LV2_validation_set/labels_json/road')\n",
    "file_list_road = [file for file in file_list if file.endswith('.json')]\n",
    "\n",
    "print(f'빌딩 : {len(file_list_building)}')\n",
    "print(f'도로 : {len(file_list_road)}')\n",
    "\n",
    "file_building_road = file_list_building + file_list_road\n",
    "\n",
    "os.mkdir('./LV2_validation_set/labels') # labels 디렉토리 생성\n",
    "\n",
    "for i in file_building_road:\n",
    "    with open(f\"./LV2_validation_set/labels_json/building/{i}\", \"r\") as jfile_building, open(f\"./LV2_validation_set/labels_json/road/{i}\", \"r\") as jfile_road:\n",
    "        meta_building, meta_road = json.load(jfile_building), json.load(jfile_road)\n",
    "        make_mask_validation(meta_building, meta_road)"
   ]
  },
  {
   "cell_type": "markdown",
   "metadata": {},
   "source": [
    "# training (512x512) resize"
   ]
  },
  {
   "cell_type": "code",
   "execution_count": null,
   "metadata": {},
   "outputs": [],
   "source": [
    "# image resize\n",
    "data_path = './LV2_training_set/images'\n",
    "img_list_dir = os.listdir(data_path)\n",
    "img_list = [file for file in img_list_dir if file.endswith('.png')]\n",
    "\n",
    "os.mkdir('./LV2_training_set/images_4')\n",
    "\n",
    "print(len(img_list))\n",
    "\n",
    "for x in img_list:\n",
    "    img_read = cv2.imread(f'{data_path}/{x}')\n",
    "\n",
    "    cut1 = img_read[0:512, 0:512, :]\n",
    "    cut2 = img_read[0:512, 512:1024, :]\n",
    "    cut3 = img_read[512:1024, 0:512, :]\n",
    "    cut4 = img_read[512:1024, 512:1024, :]\n",
    "\n",
    "    cv2.imwrite(f'{data_path}_4/' + f'{x[:-4]}_1.png' , cut1)\n",
    "    cv2.imwrite(f'{data_path}_4/' + f'{x[:-4]}_2.png' , cut2)\n",
    "    cv2.imwrite(f'{data_path}_4/' + f'{x[:-4]}_3.png' , cut3)\n",
    "    cv2.imwrite(f'{data_path}_4/' + f'{x[:-4]}_4.png' , cut4)"
   ]
  },
  {
   "cell_type": "code",
   "execution_count": null,
   "metadata": {},
   "outputs": [],
   "source": [
    "# label resize\n",
    "data_path = './LV2_training_set/labels'\n",
    "img_list_dir = os.listdir(data_path)\n",
    "img_list = [file for file in img_list_dir if file.endswith('.png')]\n",
    "\n",
    "os.mkdir('./LV2_training_set/labels_4')\n",
    "\n",
    "print(len(img_list))\n",
    "for x in img_list:\n",
    "    img_read = cv2.imread(f'{data_path}/{x}')\n",
    "\n",
    "    cut1 = img_read[0:512, 0:512, :]\n",
    "    cut2 = img_read[0:512, 512:1024, :]\n",
    "    cut3 = img_read[512:1024, 0:512, :]\n",
    "    cut4 = img_read[512:1024, 512:1024, :]\n",
    "\n",
    "    cv2.imwrite(f'{data_path}_4/' + f'{x[:-4]}_1.png' , cut1)\n",
    "    cv2.imwrite(f'{data_path}_4/' + f'{x[:-4]}_2.png' , cut2)\n",
    "    cv2.imwrite(f'{data_path}_4/' + f'{x[:-4]}_3.png' , cut3)\n",
    "    cv2.imwrite(f'{data_path}_4/' + f'{x[:-4]}_4.png' , cut4)"
   ]
  },
  {
   "cell_type": "markdown",
   "metadata": {},
   "source": [
    "# 검정[0,0,0] 배경 제거"
   ]
  },
  {
   "cell_type": "code",
   "execution_count": null,
   "metadata": {},
   "outputs": [],
   "source": [
    "data_path = './LV2_training_set/labels_4'\n",
    "img_list_dir = os.listdir(data_path)\n",
    "img_list = [file for file in img_list_dir if file.endswith('.png')]\n",
    "\n",
    "color_list = []\n",
    "compare_img = cv2.imread('./background_img.png')\n",
    "\n",
    "for x in img_list:\n",
    "    target_img = cv2.imread(f'{data_path}/{x}')\n",
    "    diff_img = compare_img - target_img\n",
    "\n",
    "    F_break = True\n",
    "\n",
    "    for i in range(0,len(diff_img)):\n",
    "        for j in range(0,len(diff_img)):\n",
    "            if not np.array_equal(np.array([0, 0, 0]),diff_img[i][j]):\n",
    "                color_list.append(x)\n",
    "                F_break = False\n",
    "                break    \n",
    "        if(F_break == False):\n",
    "            break\n",
    "\n",
    "black_list = list(set(img_list) - set(color_list))\n",
    "print(len(black_list))"
   ]
  },
  {
   "cell_type": "code",
   "execution_count": 9,
   "metadata": {},
   "outputs": [],
   "source": [
    "data_path_labels_4 = './LV2_training_set/labels_4'\n",
    "data_path_images_4 = './LV2_training_set/images_4'\n",
    "\n",
    "for i in black_list:\n",
    "    img_label = f'{data_path_labels_4}/{i}'\n",
    "    img_image = f'{data_path_images_4}/{i}'\n",
    "\n",
    "    os.remove(img_label)\n",
    "    os.remove(img_image)"
   ]
  },
  {
   "cell_type": "code",
   "execution_count": null,
   "metadata": {},
   "outputs": [],
   "source": [
    "shutil.rmtree('./LV2_training_set/labels') # labels 디렉토리 제거\n",
    "print('전처리 완료')"
   ]
  }
 ],
 "metadata": {
  "kernelspec": {
   "display_name": "Python 3.9.14 64-bit",
   "language": "python",
   "name": "python3"
  },
  "language_info": {
   "codemirror_mode": {
    "name": "ipython",
    "version": 3
   },
   "file_extension": ".py",
   "mimetype": "text/x-python",
   "name": "python",
   "nbconvert_exporter": "python",
   "pygments_lexer": "ipython3",
   "version": "3.9.14"
  },
  "orig_nbformat": 4,
  "vscode": {
   "interpreter": {
    "hash": "a665b5d41d17b532ea9890333293a1b812fa0b73c9c25c950b3cedf1bebd0438"
   }
  }
 },
 "nbformat": 4,
 "nbformat_minor": 2
}
